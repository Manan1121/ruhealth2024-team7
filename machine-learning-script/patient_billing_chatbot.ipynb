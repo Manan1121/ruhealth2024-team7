{
 "cells": [
  {
   "cell_type": "code",
   "execution_count": 1,
   "id": "a89420da-d80a-4972-88be-b3ad848db455",
   "metadata": {},
   "outputs": [],
   "source": [
    "import openai\n",
    "import os\n",
    "from flask import Flask, request, jsonify\n",
    "from flask_socketio import SocketIO, emit"
   ]
  },
  {
   "cell_type": "code",
   "execution_count": null,
   "id": "29db0695-0bf6-458f-8ce5-b19cbb18a040",
   "metadata": {},
   "outputs": [],
   "source": [
    "# Set up the OpenAI API key (ensure to set your API key as an environment variable)\n",
    "openai.api_key = os.getenv(\"OPENAI_API_KEY\")\n",
    "\n",
    "# Create a Flask app\n",
    "app = Flask(__name__)\n",
    "socketio = SocketIO(app, cors_allowed_origins=\"*\", async_mode=\"gevent\")\n",
    "\n",
    "# Define a socket route for chatbot interaction\n",
    "@socketio.on('chat_message')\n",
    "def handle_chat_message(message):\n",
    "    # Convert the message to a prompt for ChatGPT\n",
    "    prompt = (\n",
    "        \"You are an assistant that provides answers to patient billing queries. \"\n",
    "        \"Answer questions about billing data, overcharges, and other related concerns.\\n\"\n",
    "        f\"User: {message}\\nAssistant:\"\n",
    "    )\n",
    "    \n",
    "    # Call the OpenAI API\n",
    "    response = openai.Completion.create(\n",
    "        engine=\"text-davinci-003\",\n",
    "        prompt=prompt,\n",
    "        max_tokens=150\n",
    "    )\n",
    "    \n",
    "    # Get the chatbot response\n",
    "    response_text = response.choices[0].text.strip()\n",
    "    \n",
    "    # Emit the response back to the client\n",
    "    emit('chat_response', {'response': response_text})\n",
    "\n",
    "# Run the Flask app\n",
    "if __name__ == '__main__':\n",
    "    socketio.run(app, host='0.0.0.0', port=5002, debug=True)"
   ]
  },
  {
   "cell_type": "code",
   "execution_count": null,
   "id": "1de46981-7e77-41d9-b542-f59fbef9fe68",
   "metadata": {},
   "outputs": [],
   "source": []
  }
 ],
 "metadata": {
  "instance_type": "ml.t3.medium",
  "kernelspec": {
   "display_name": "Python 3 (Data Science 3.0)",
   "language": "python",
   "name": "python3__SAGEMAKER_INTERNAL__arn:aws:sagemaker:us-east-1:081325390199:image/sagemaker-data-science-310-v1"
  },
  "language_info": {
   "codemirror_mode": {
    "name": "ipython",
    "version": 3
   },
   "file_extension": ".py",
   "mimetype": "text/x-python",
   "name": "python",
   "nbconvert_exporter": "python",
   "pygments_lexer": "ipython3",
   "version": "3.10.6"
  }
 },
 "nbformat": 4,
 "nbformat_minor": 5
}
